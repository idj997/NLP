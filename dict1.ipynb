{
 "cells": [
  {
   "cell_type": "markdown",
   "metadata": {},
   "source": [
    "# A simple dictionary-based sentiment analyser"
   ]
  },
  {
   "cell_type": "code",
   "execution_count": 1,
   "metadata": {
    "tags": []
   },
   "outputs": [],
   "source": [
    "# library for regular expressions\n",
    "import re"
   ]
  },
  {
   "cell_type": "code",
   "execution_count": 2,
   "metadata": {
    "tags": []
   },
   "outputs": [],
   "source": [
    "text = \"hello I am happy.:) :)Are you?\""
   ]
  },
  {
   "cell_type": "code",
   "execution_count": 3,
   "metadata": {
    "tags": []
   },
   "outputs": [],
   "source": [
    "def preProcess(text):\n",
    "    print(\"original:\", text)\n",
    "    # sentence segmentation - assume already done\n",
    "    # word tokenisation\n",
    "    text = re.sub(r\"(\\w)([.,;:!?'\\\"”\\)])\", r\"\\1 \\2\", text) # separates punctuation at ends of strings\n",
    "    text = re.sub(r\"([.,;:!?'\\\"“\\(\\)])(\\w)\", r\"\\1 \\2\", text) # separates punctuation at beginning of strings\n",
    "    print(\"tokenising:\", text)\n",
    "    tokens = re.split(r\"\\s+\",text)\n",
    "    # normalisation - only by lower casing for now\n",
    "    tokens = [t.lower() for t in tokens]\n",
    "    return tokens"
   ]
  },
  {
   "cell_type": "code",
   "execution_count": 4,
   "metadata": {
    "tags": []
   },
   "outputs": [
    {
     "name": "stdout",
     "output_type": "stream",
     "text": [
      "original: hello I am happy.:) :)Are you?\n",
      "tokenising: hello I am happy .:) :) Are you ?\n",
      "['hello', 'i', 'am', 'happy', '.:)', ':)', 'are', 'you', '?']\n",
      "original: I am sad :(\n",
      "tokenising: I am sad :(\n",
      "['i', 'am', 'sad', ':(']\n"
     ]
    }
   ],
   "source": [
    "print(preProcess(text))\n",
    "print(preProcess(\"I am sad :(\"))"
   ]
  },
  {
   "cell_type": "code",
   "execution_count": 22,
   "metadata": {
    "tags": []
   },
   "outputs": [
    {
     "name": "stdout",
     "output_type": "stream",
     "text": [
      "{'happy': 1.0, 'sad': -1.0, 'angry': -1.0, 'deplorable': -1.0, 'beutiful': 1.0, 'like': 1.0, 'dont': -1.0, 'enjoy': 1.0}\n"
     ]
    }
   ],
   "source": [
    "# a very simple dictionary\n",
    "sentimentDict = { 'happy': +1.0, 'sad': -1.0 , 'angry' : -1.0, 'deplorable': -1.0, 'beutiful': +1.0, 'like': +1.0, 'dont': -1.0, 'enjoy': +1.0}\n",
    "print(sentimentDict)"
   ]
  },
  {
   "cell_type": "code",
   "execution_count": 15,
   "metadata": {
    "tags": []
   },
   "outputs": [],
   "source": [
    "def getSentiment(word):\n",
    "    try:\n",
    "        # if the word is in the sentimentDict, return its value\n",
    "        return sentimentDict[word]\n",
    "    except KeyError:\n",
    "        # else a netural 0\n",
    "        return 0.0"
   ]
  },
  {
   "cell_type": "code",
   "execution_count": 16,
   "metadata": {
    "tags": []
   },
   "outputs": [],
   "source": [
    "# An alternative way of coding the above function\n",
    "if False:\n",
    "    def getSentiment(word):\n",
    "        if word in sentimentDict.keys():\n",
    "            return sentimentDict[word]\n",
    "        else:\n",
    "            # else a netural 0\n",
    "            return 0.0"
   ]
  },
  {
   "cell_type": "code",
   "execution_count": 17,
   "metadata": {
    "tags": []
   },
   "outputs": [],
   "source": [
    "def analyseSentiment(text):\n",
    "    words = preProcess(text)\n",
    "    print(\"words:\", words)\n",
    "    scores = [getSentiment(w) for w in words]\n",
    "    print(\"scores\", scores)\n",
    "    return sum(scores)"
   ]
  },
  {
   "cell_type": "code",
   "execution_count": 18,
   "metadata": {
    "tags": []
   },
   "outputs": [
    {
     "name": "stdout",
     "output_type": "stream",
     "text": [
      "original: hello I am happy.:) :)Are you?\n",
      "tokenising: hello I am happy .:) :) Are you ?\n",
      "words: ['hello', 'i', 'am', 'happy', '.:)', ':)', 'are', 'you', '?']\n",
      "scores [0.0, 0.0, 0.0, 1.0, 0.0, 0.0, 0.0, 0.0, 0.0]\n",
      "sentiment =  1.0\n"
     ]
    }
   ],
   "source": [
    "s = analyseSentiment(text)\n",
    "print(\"sentiment = \", s)"
   ]
  },
  {
   "cell_type": "code",
   "execution_count": 19,
   "metadata": {
    "tags": []
   },
   "outputs": [
    {
     "name": "stdout",
     "output_type": "stream",
     "text": [
      "original: i am very sad\n",
      "tokenising: i am very sad\n",
      "words: ['i', 'am', 'very', 'sad']\n",
      "scores [0.0, 0.0, 0.0, -1.0]\n"
     ]
    },
    {
     "data": {
      "text/plain": [
       "-1.0"
      ]
     },
     "execution_count": 19,
     "metadata": {},
     "output_type": "execute_result"
    }
   ],
   "source": [
    "analyseSentiment(\"i am very sad\")"
   ]
  },
  {
   "cell_type": "markdown",
   "metadata": {},
   "source": [
    "# Exercise: Try adding new entries to the dictionary 'sentimentDict' above and re-running the code from the top, trying different sentences with the target words in."
   ]
  },
  {
   "cell_type": "code",
   "execution_count": 23,
   "metadata": {
    "tags": []
   },
   "outputs": [
    {
     "name": "stdout",
     "output_type": "stream",
     "text": [
      "original: i dont like dogs very much and it's sad\n",
      "tokenising: i dont like dogs very much and it ' s sad\n",
      "words: ['i', 'dont', 'like', 'dogs', 'very', 'much', 'and', 'it', \"'\", 's', 'sad']\n",
      "scores [0.0, -1.0, 1.0, 0.0, 0.0, 0.0, 0.0, 0.0, 0.0, 0.0, -1.0]\n"
     ]
    },
    {
     "data": {
      "text/plain": [
       "-1.0"
      ]
     },
     "execution_count": 23,
     "metadata": {},
     "output_type": "execute_result"
    }
   ],
   "source": [
    "analyseSentiment(\"i dont like dogs very much and it's sad\")"
   ]
  },
  {
   "cell_type": "code",
   "execution_count": 25,
   "metadata": {
    "tags": []
   },
   "outputs": [
    {
     "name": "stdout",
     "output_type": "stream",
     "text": [
      "original: i find you very deplorable\n",
      "tokenising: i find you very deplorable\n",
      "words: ['i', 'find', 'you', 'very', 'deplorable']\n",
      "scores [0.0, 0.0, 0.0, 0.0, -1.0]\n"
     ]
    },
    {
     "data": {
      "text/plain": [
       "-1.0"
      ]
     },
     "execution_count": 25,
     "metadata": {},
     "output_type": "execute_result"
    }
   ],
   "source": [
    "analyseSentiment(\"i find you very deplorable\")"
   ]
  },
  {
   "cell_type": "code",
   "execution_count": 26,
   "metadata": {
    "tags": []
   },
   "outputs": [
    {
     "name": "stdout",
     "output_type": "stream",
     "text": [
      "original: I think you are very beutiful\n",
      "tokenising: I think you are very beutiful\n",
      "words: ['i', 'think', 'you', 'are', 'very', 'beutiful']\n",
      "scores [0.0, 0.0, 0.0, 0.0, 0.0, 1.0]\n"
     ]
    },
    {
     "data": {
      "text/plain": [
       "1.0"
      ]
     },
     "execution_count": 26,
     "metadata": {},
     "output_type": "execute_result"
    }
   ],
   "source": [
    "analyseSentiment(\"I think you are very beutiful\")"
   ]
  },
  {
   "cell_type": "code",
   "execution_count": 27,
   "metadata": {
    "tags": []
   },
   "outputs": [
    {
     "name": "stdout",
     "output_type": "stream",
     "text": [
      "original: I think you are very beutiful and that makes me happy and sad at same time\n",
      "tokenising: I think you are very beutiful and that makes me happy and sad at same time\n",
      "words: ['i', 'think', 'you', 'are', 'very', 'beutiful', 'and', 'that', 'makes', 'me', 'happy', 'and', 'sad', 'at', 'same', 'time']\n",
      "scores [0.0, 0.0, 0.0, 0.0, 0.0, 1.0, 0.0, 0.0, 0.0, 0.0, 1.0, 0.0, -1.0, 0.0, 0.0, 0.0]\n"
     ]
    },
    {
     "data": {
      "text/plain": [
       "1.0"
      ]
     },
     "execution_count": 27,
     "metadata": {},
     "output_type": "execute_result"
    }
   ],
   "source": [
    "analyseSentiment(\"I think you are very beutiful and that makes me happy and sad at same time\")"
   ]
  },
  {
   "cell_type": "code",
   "execution_count": 30,
   "metadata": {
    "tags": []
   },
   "outputs": [
    {
     "name": "stdout",
     "output_type": "stream",
     "text": [
      "original: I often Enjoy beutiful scenery\n",
      "tokenising: I often Enjoy beutiful scenery\n",
      "words: ['i', 'often', 'enjoy', 'beutiful', 'scenery']\n",
      "scores [0.0, 0.0, 1.0, 1.0, 0.0]\n"
     ]
    },
    {
     "data": {
      "text/plain": [
       "2.0"
      ]
     },
     "execution_count": 30,
     "metadata": {},
     "output_type": "execute_result"
    }
   ],
   "source": [
    "analyseSentiment(\"I often Enjoy beutiful scenery\")"
   ]
  },
  {
   "cell_type": "code",
   "execution_count": null,
   "metadata": {},
   "outputs": [],
   "source": []
  }
 ],
 "metadata": {
  "kernelspec": {
   "display_name": "Python 3 (ipykernel)",
   "language": "python",
   "name": "python3"
  },
  "language_info": {
   "codemirror_mode": {
    "name": "ipython",
    "version": 3
   },
   "file_extension": ".py",
   "mimetype": "text/x-python",
   "name": "python",
   "nbconvert_exporter": "python",
   "pygments_lexer": "ipython3",
   "version": "3.10.13"
  }
 },
 "nbformat": 4,
 "nbformat_minor": 4
}
