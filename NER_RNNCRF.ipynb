{
 "cells": [
  {
   "cell_type": "markdown",
   "metadata": {},
   "source": [
    "# NLP Unassessed Exercise: Named Entity Recognition tagging with Deep Neural Sequence models (RNN with a CRF final layer)\n",
    "## Please follow the instructions below to run and understand t"
   ]
  },
  {
   "cell_type": "code",
   "execution_count": 23,
   "metadata": {
    "id": "v1yLh5GvPwXa"
   },
   "outputs": [],
   "source": [
    "#reference:\n",
    "#https://github.com/atulkum/sequence_prediction/blob/master/neural_ner/process_training.py\n",
    "#https://www.cse.chalmers.se/~richajo/nlp2019/l6/Sequence%20tagging%20example.html\n",
    "#https://stackoverflow.com/questions/66516388/attributeerror-module-torchtext-data-has-no-attribute-field"
   ]
  },
  {
   "cell_type": "code",
   "execution_count": 24,
   "metadata": {},
   "outputs": [
    {
     "name": "stdout",
     "output_type": "stream",
     "text": [
      "Requirement already satisfied: torch==1.11 in /opt/conda/lib/python3.10/site-packages (1.11.0)\n",
      "Requirement already satisfied: torchtext==0.6 in /opt/conda/lib/python3.10/site-packages (0.6.0)\n",
      "Requirement already satisfied: typing-extensions in /opt/conda/lib/python3.10/site-packages (from torch==1.11) (4.8.0)\n",
      "Requirement already satisfied: tqdm in /opt/conda/lib/python3.10/site-packages (from torchtext==0.6) (4.66.1)\n",
      "Requirement already satisfied: requests in /opt/conda/lib/python3.10/site-packages (from torchtext==0.6) (2.31.0)\n",
      "Requirement already satisfied: numpy in /opt/conda/lib/python3.10/site-packages (from torchtext==0.6) (1.26.1)\n",
      "Requirement already satisfied: six in /opt/conda/lib/python3.10/site-packages (from torchtext==0.6) (1.16.0)\n",
      "Requirement already satisfied: sentencepiece in /opt/conda/lib/python3.10/site-packages (from torchtext==0.6) (0.1.99)\n",
      "Requirement already satisfied: charset-normalizer<4,>=2 in /opt/conda/lib/python3.10/site-packages (from requests->torchtext==0.6) (3.3.1)\n",
      "Requirement already satisfied: idna<4,>=2.5 in /opt/conda/lib/python3.10/site-packages (from requests->torchtext==0.6) (3.4)\n",
      "Requirement already satisfied: urllib3<3,>=1.21.1 in /opt/conda/lib/python3.10/site-packages (from requests->torchtext==0.6) (2.0.7)\n",
      "Requirement already satisfied: certifi>=2017.4.17 in /opt/conda/lib/python3.10/site-packages (from requests->torchtext==0.6) (2023.7.22)\n"
     ]
    }
   ],
   "source": [
    "!pip install torch==1.11 torchtext==0.6"
   ]
  },
  {
   "cell_type": "code",
   "execution_count": 25,
   "metadata": {},
   "outputs": [
    {
     "name": "stdout",
     "output_type": "stream",
     "text": [
      "Requirement already satisfied: pytorch-crf in /opt/conda/lib/python3.10/site-packages (0.7.2)\n"
     ]
    }
   ],
   "source": [
    "!pip install pytorch-crf"
   ]
  },
  {
   "cell_type": "markdown",
   "metadata": {
    "id": "tZiixc8IKcLh"
   },
   "source": [
    "**Sequence tagging example**\n",
    "\n",
    "\n",
    "\n",
    "\n",
    "In this example, we implement a named entity tagger using two different approaches: a simple approach where a linear output unit is put on top of an RNN, and a slightly more complex approach where we use a conditional random field to predict the output. This example uses training and validation data from the [CoNLL-2003 Shared Task](https://www.cse.chalmers.se/~richajo/nlp2019/l6/Sequence%20tagging%20example.html#:~:text=CoNLL-2003%20Shared%20Task.)."
   ]
  },
  {
   "cell_type": "code",
   "execution_count": 26,
   "metadata": {
    "id": "Rh885_emsFQg"
   },
   "outputs": [],
   "source": [
    "import torch\n",
    "from torch import nn\n",
    "import time\n",
    "import torchtext\n",
    "import numpy as np\n",
    "\n",
    "import random\n",
    "\n",
    "from collections import defaultdict, Counter\n",
    "\n",
    "import matplotlib.pyplot as plt\n",
    "\n",
    "%config InlineBackend.figure_format = 'retina' \n",
    "plt.style.use('seaborn-v0_8')"
   ]
  },
  {
   "cell_type": "markdown",
   "metadata": {
    "id": "CzSYKDUeLKO0"
   },
   "source": [
    "# Reading the data in the CoNLL-2003 format\n",
    "\n",
    "Reading the data in the CoNLL-2003 format.\n",
    "\n",
    "The CoNLL-2003 shared task data files contain four columns separated by a single space. Each word has been put on a separate line and there is an empty line after each sentence. The first item on each line is a word, the second a part-of-speech (POS) tag, the third a syntactic chunk tag and the fourth the named entity tag. The chunk tags and the named entity tags have the format I-TYPE which means that the word is inside a phrase of type TYPE. Only if two phrases of the same type immediately follow each other, the first word of the second phrase will have tag B-TYPE to show that it starts a new phrase. A word with tag O is not part of a phrase. \n",
    "Here is an example:\n",
    "\n",
    "EU NNP I-NP I-ORG\n",
    "rejects VBZ I-VP O\n",
    "German JJ I-NP I-MISC\n",
    "call NN I-NP O\n",
    "to TO I-VP O\n",
    "boycott VB I-VP O\n",
    "British JJ I-NP I-MISC\n",
    "lamb NN I-NP O\n",
    ". . O O"
   ]
  },
  {
   "cell_type": "code",
   "execution_count": 37,
   "metadata": {
    "id": "H9NRXVCjshIg"
   },
   "outputs": [],
   "source": [
    "def read_data(corpus_file, datafields):\n",
    "    with open(corpus_file, encoding='utf-8') as f:\n",
    "        examples = []\n",
    "        words = []\n",
    "        labels = []\n",
    "        for line in f:\n",
    "            line = line.strip()\n",
    "            if not line:\n",
    "                examples.append(torchtext.data.Example.fromlist([words, labels], datafields))\n",
    "                # examples.append(torchtext.legacy.data.Example.fromlist([words, labels], datafields))\n",
    "              \n",
    "                words = []\n",
    "                labels = []\n",
    "            else:\n",
    "                columns = line.split()\n",
    "                words.append(columns[0])\n",
    "                labels.append(columns[-1])\n",
    "        return torchtext.data.Dataset(examples, datafields)\n",
    "        # return torchtext.legacy.data.Dataset(examples, datafields)"
   ]
  },
  {
   "cell_type": "markdown",
   "metadata": {
    "id": "tD74_TEdNtPD"
   },
   "source": [
    "# Implementing a tagger based on RNNs and a linear output unit\n",
    "\n",
    "Our first implementation will be fairly straightforward. We apply an RNN and then a linear output unit to predict the outputs.\n",
    "\n",
    "High-quality systems that for tasks such as named entity recognition and part-of-speech tagging typically use smarter word representations, for instance by taking the characters into account more carefully. We just use word embeddings.\n",
    "\n",
    "A small issue to note here is that we don't want the system to spend effort learning to tag the padding tokens. To make the system ignore the padding, we add a large number to the output corresponding to the dummy padding tag. This means that the loss values for these positions will be negligible."
   ]
  },
  {
   "cell_type": "code",
   "execution_count": 28,
   "metadata": {
    "id": "1c7djJxUPD8a"
   },
   "outputs": [],
   "source": [
    "class RNNTagger(nn.Module):\n",
    "    \n",
    "    def __init__(self, text_field, label_field, emb_dim, rnn_size, update_pretrained=False):\n",
    "        super().__init__()\n",
    "        \n",
    "        voc_size = len(text_field.vocab)\n",
    "        self.n_labels = len(label_field.vocab)       \n",
    "        \n",
    "        # Embedding layer. If we're using pre-trained embeddings, copy them\n",
    "        # into our embedding module.\n",
    "        self.embedding = nn.Embedding(voc_size, emb_dim)\n",
    "        if text_field.vocab.vectors is not None:\n",
    "            self.embedding.weight = torch.nn.Parameter(text_field.vocab.vectors, \n",
    "                                                       requires_grad=update_pretrained)\n",
    "\n",
    "        # RNN layer. We're using a bidirectional GRU with one layer.\n",
    "        self.rnn = nn.GRU(input_size=emb_dim, hidden_size=rnn_size, \n",
    "                          bidirectional=True, num_layers=1)\n",
    "\n",
    "        # Output layer. As in the example last week, the input will be two times\n",
    "        # the RNN size since we are using a bidirectional RNN.\n",
    "        self.top_layer = nn.Linear(2*rnn_size, self.n_labels)\n",
    " \n",
    "        # To deal with the padding positions later, we need to know the\n",
    "        # encoding of the padding dummy word and the corresponding dummy output tag.\n",
    "        self.pad_word_id = text_field.vocab.stoi[text_field.pad_token]\n",
    "        self.pad_label_id = label_field.vocab.stoi[label_field.pad_token]\n",
    "    \n",
    "        # Loss function that we will use during training.\n",
    "        self.loss = torch.nn.CrossEntropyLoss(reduction='sum')\n",
    "        \n",
    "    def compute_outputs(self, sentences):\n",
    "        # The words in the documents are encoded as integers. The shape of the documents\n",
    "        # tensor is (max_len, n_docs), where n_docs is the number of documents in this batch,\n",
    "        # and max_len is the maximal length of a document in the batch.\n",
    "\n",
    "        # First look up the embeddings for all the words in the documents.\n",
    "        # The shape is now (max_len, n_sentences, emb_dim).        \n",
    "        embedded = self.embedding(sentences)\n",
    "\n",
    "        # Apply the RNN.\n",
    "        # The shape of the RNN output tensor is (max_len, n_sentences, 2*rnn_size).\n",
    "        rnn_out, _ = self.rnn(embedded)\n",
    "        \n",
    "        # Apply the linear output layer.\n",
    "        # The shape of the output tensor is (max_len, n_sentences, n_labels).\n",
    "        out = self.top_layer(rnn_out)\n",
    "        \n",
    "        # Find the positions where the token is a dummy padding token.\n",
    "        pad_mask = (sentences == self.pad_word_id).float()\n",
    "\n",
    "        # For these positions, we add some large number in the column corresponding\n",
    "        # to the dummy padding label.\n",
    "        out[:, :, self.pad_label_id] += pad_mask*10000\n",
    "\n",
    "        return out\n",
    "                \n",
    "    def forward(self, sentences, labels):\n",
    "        # As discussed above, this method first computes the predictions, and then\n",
    "        # the loss function.\n",
    "        \n",
    "        # Compute the outputs. The shape is (max_len, n_sentences, n_labels).\n",
    "        scores = self.compute_outputs(sentences)\n",
    "        \n",
    "        # Flatten the outputs and the gold-standard labels, to compute the loss.\n",
    "        # The input to this loss needs to be one 2-dimensional and one 1-dimensional tensor.\n",
    "        scores = scores.view(-1, self.n_labels)\n",
    "        labels = labels.view(-1)\n",
    "        return self.loss(scores, labels)\n",
    "\n",
    "    def predict(self, sentences):\n",
    "        # Compute the outputs from the linear units.\n",
    "        scores = self.compute_outputs(sentences)\n",
    "\n",
    "        # Select the top-scoring labels. The shape is now (max_len, n_sentences).\n",
    "        predicted = scores.argmax(dim=2)\n",
    "\n",
    "        # We transpose the prediction to (n_sentences, max_len), and convert it\n",
    "        # to a NumPy matrix.\n",
    "        return predicted.t().cpu().numpy()"
   ]
  },
  {
   "cell_type": "markdown",
   "metadata": {
    "id": "LCTViyXcQRiN"
   },
   "source": [
    "# Implementing a conditional random field tagger\n",
    "\n",
    "We will now add a CRF layer on top of the linear output units. The CRF will help the model handle the interactions between output tags more consistently, e.g. not mixing up B and I tags of different types. \n",
    "\n",
    "The two important methods in [the CRF module](https://pytorch-crf.readthedocs.io/en/stable/) correspond to the two main algorithm that a CRF needs to implement:\n",
    "\n",
    "**Decode** applies the Viterbi algorithm to compute the highest-scoring sequences.\n",
    "\n",
    "**Forward** applies the forward algorithm to compute the log likelihood of the training set.\n",
    "Most of the code is identical to the implementation above. The differences are in the forward and predict methods."
   ]
  },
  {
   "cell_type": "code",
   "execution_count": 29,
   "metadata": {
    "colab": {
     "base_uri": "https://localhost:8080/"
    },
    "id": "WZyu3oQ2UZZn",
    "outputId": "6bb6f446-2e8a-4ddc-bc0e-a68bb8508551"
   },
   "outputs": [],
   "source": [
    "from torchcrf import CRF\n",
    "\n",
    "class RNNCRFTagger(nn.Module):\n",
    "    \n",
    "    def __init__(self, text_field, label_field, emb_dim, rnn_size, update_pretrained=False):\n",
    "        super().__init__()\n",
    "        \n",
    "        voc_size = len(text_field.vocab)\n",
    "        self.n_labels = len(label_field.vocab)       \n",
    "        \n",
    "        self.embedding = nn.Embedding(voc_size, emb_dim)\n",
    "        if text_field.vocab.vectors is not None:\n",
    "            self.embedding.weight = torch.nn.Parameter(text_field.vocab.vectors, \n",
    "                                                       requires_grad=update_pretrained)\n",
    "\n",
    "        self.rnn = nn.GRU(input_size=emb_dim, hidden_size=rnn_size, \n",
    "                          bidirectional=True, num_layers=1)\n",
    "\n",
    "        self.top_layer = nn.Linear(2*rnn_size, self.n_labels)\n",
    " \n",
    "        self.pad_word_id = text_field.vocab.stoi[text_field.pad_token]\n",
    "        self.pad_label_id = label_field.vocab.stoi[label_field.pad_token]\n",
    "    \n",
    "        self.crf = CRF(self.n_labels)\n",
    "        \n",
    "    def compute_outputs(self, sentences):\n",
    "        embedded = self.embedding(sentences)\n",
    "        rnn_out, _ = self.rnn(embedded)\n",
    "        out = self.top_layer(rnn_out)\n",
    "        \n",
    "        pad_mask = (sentences == self.pad_word_id).float()\n",
    "        out[:, :, self.pad_label_id] += pad_mask*10000\n",
    "        \n",
    "        return out\n",
    "                \n",
    "    def forward(self, sentences, labels):\n",
    "        # Compute the outputs of the lower layers, which will be used as emission\n",
    "        # scores for the CRF.\n",
    "        scores = self.compute_outputs(sentences)\n",
    "\n",
    "        # We return the loss value. The CRF returns the log likelihood, but we return \n",
    "        # the *negative* log likelihood as the loss value.            \n",
    "        # PyTorch's optimizers *minimize* the loss, while we want to *maximize* the\n",
    "        # log likelihood.\n",
    "        return -self.crf(scores, labels)\n",
    "            \n",
    "    def predict(self, sentences):\n",
    "        # Compute the emission scores, as above.\n",
    "        scores = self.compute_outputs(sentences)\n",
    "\n",
    "        # Apply the Viterbi algorithm to get the predictions. This implementation returns\n",
    "        # the result as a list of lists (not a tensor), corresponding to a matrix\n",
    "        # of shape (n_sentences, max_len).\n",
    "        return self.crf.decode(scores)"
   ]
  },
  {
   "cell_type": "markdown",
   "metadata": {
    "id": "G2iGpNPyRxEy"
   },
   "source": [
    "# Evaluating the predicted named entities\n",
    "\n",
    "To evaluate our named entity recognizers, we compare the named entities predicted by the system to the entities in the gold standard. We follow standard practice and compute precision and recall scores, as well as the harmonic mean of the precision and recall, known as the F-score.\n",
    "\n",
    "Please note that the precision and recall scores are computed with respect to the full named entity spans and labels. To be counted as a correct prediction, the system needs to predict all words in the named entity correctly, and assign the right type of entity label. We don't give any credits to partially correct predictions.\n",
    "\n",
    "**Note:**Two packages of training and validation data sets are given. You can use any package.\n",
    "\n",
    "**eng.train&eng.test**(original Conll03 corpus)\n",
    "**eng.train.openNLP&eng.test.openNL**P(retagging of Conll03 with openNLP,there are many tags that differ from the original Conll03 corpus: estimation at 12% of different tags)\n"
   ]
  },
  {
   "cell_type": "code",
   "execution_count": 30,
   "metadata": {
    "id": "7uooLLxNUdA6"
   },
   "outputs": [],
   "source": [
    "# Convert a list of BIO labels, coded as integers, into spans identified by a beginning, an end, and a label.\n",
    "# To allow easy comparison later, we store them in a dictionary indexed by the start position.\n",
    "def to_spans(l_ids, voc):\n",
    "    spans = {}\n",
    "    current_lbl = None\n",
    "    current_start = None\n",
    "    for i, l_id in enumerate(l_ids):\n",
    "        l = voc[l_id]\n",
    "\n",
    "        if l[0] == 'B': \n",
    "            # Beginning of a named entity: B-something.\n",
    "            if current_lbl:\n",
    "                # If we're working on an entity, close it.\n",
    "                spans[current_start] = (current_lbl, i)\n",
    "            # Create a new entity that starts here.\n",
    "            current_lbl = l[2:]\n",
    "            current_start = i\n",
    "        elif l[0] == 'I':\n",
    "            # Continuation of an entity: I-something.\n",
    "            if current_lbl:\n",
    "                # If we have an open entity, but its label does not\n",
    "                # correspond to the predicted I-tag, then we close\n",
    "                # the open entity and create a new one.\n",
    "                if current_lbl != l[2:]:\n",
    "                    spans[current_start] = (current_lbl, i)\n",
    "                    current_lbl = l[2:]\n",
    "                    current_start = i\n",
    "            else:\n",
    "                # If we don't have an open entity but predict an I tag,\n",
    "                # we create a new entity starting here even though we're\n",
    "                # not following the format strictly.\n",
    "                current_lbl = l[2:]\n",
    "                current_start = i\n",
    "        else:\n",
    "            # Outside: O.\n",
    "            if current_lbl:\n",
    "                # If we have an open entity, we close it.\n",
    "                spans[current_start] = (current_lbl, i)\n",
    "                current_lbl = None\n",
    "                current_start = None\n",
    "    return spans\n",
    "\n",
    "# Compares two sets of spans and records the results for future aggregation.\n",
    "def compare(gold, pred, stats):\n",
    "    for start, (lbl, end) in gold.items():\n",
    "        stats['total']['gold'] += 1\n",
    "        stats[lbl]['gold'] += 1\n",
    "    for start, (lbl, end) in pred.items():\n",
    "        stats['total']['pred'] += 1\n",
    "        stats[lbl]['pred'] += 1\n",
    "    for start, (glbl, gend) in gold.items():\n",
    "        if start in pred:\n",
    "            plbl, pend = pred[start]\n",
    "            if glbl == plbl and gend == pend:\n",
    "                stats['total']['corr'] += 1\n",
    "                stats[glbl]['corr'] += 1\n",
    "\n",
    "# This function combines the auxiliary functions we defined above.\n",
    "def evaluate_iob(predicted, gold, label_field, stats):\n",
    "    # The gold-standard labels are assumed to be an integer tensor of shape\n",
    "    # (max_len, n_sentences), as returned by torchtext.\n",
    "    gold_cpu = gold.t().cpu().numpy()\n",
    "    gold_cpu = list(gold_cpu.reshape(-1))\n",
    "\n",
    "    # The predicted labels assume the format produced by pytorch-crf, so we\n",
    "    # assume that they have been converted into a list already.\n",
    "    # We just flatten the list.\n",
    "    pred_cpu = [l for sen in predicted for l in sen]\n",
    "    \n",
    "    # Compute spans for the gold standard and prediction.\n",
    "    gold_spans = to_spans(gold_cpu, label_field.vocab.itos)\n",
    "    pred_spans = to_spans(pred_cpu, label_field.vocab.itos)\n",
    "\n",
    "    # Finally, update the counts for correct, predicted and gold-standard spans.\n",
    "    compare(gold_spans, pred_spans, stats)\n",
    "\n",
    "# Computes precision, recall and F-score, given a dictionary that contains\n",
    "# the counts of correct, predicted and gold-standard items.\n",
    "def prf(stats):\n",
    "    if stats['pred'] == 0:\n",
    "        return 0, 0, 0\n",
    "    p = stats['corr']/stats['pred']\n",
    "    r = stats['corr']/stats['gold']\n",
    "    if p > 0 and r > 0:\n",
    "        f = 2*p*r/(p+r)\n",
    "    else:\n",
    "        f = 0\n",
    "    return p, r, f"
   ]
  },
  {
   "cell_type": "markdown",
   "metadata": {
    "id": "08-nyCMBUmII"
   },
   "source": [
    "# Training the full system\n",
    "The training procedure will create a model, train it for some epochs, and evaluate on the validation set periodically. In most cases, the CRF-based system gives slightly higher evaluation scores than the simple system."
   ]
  },
  {
   "cell_type": "code",
   "execution_count": 31,
   "metadata": {
    "colab": {
     "base_uri": "https://localhost:8080/",
     "height": 985
    },
    "editable": true,
    "id": "1uxJFwAatLus",
    "outputId": "298ea86f-7ae6-42c7-e96d-f88316b34b66",
    "slideshow": {
     "slide_type": ""
    },
    "tags": []
   },
   "outputs": [
    {
     "name": "stdout",
     "output_type": "stream",
     "text": [
      "We are training word embeddings from scratch.\n",
      "built vocab from training examples.\n",
      "training beginning.\n"
     ]
    },
    {
     "name": "stderr",
     "output_type": "stream",
     "text": [
      "/opt/conda/lib/python3.10/site-packages/torchcrf/__init__.py:249: UserWarning: where received a uint8 condition tensor. This behavior is deprecated and will be removed in a future version of PyTorch. Use a boolean condition instead. (Triggered internally at  ../aten/src/ATen/native/TensorCompare.cpp:333.)\n",
      "  score = torch.where(mask[i].unsqueeze(1), next_score, score)\n"
     ]
    },
    {
     "name": "stdout",
     "output_type": "stream",
     "text": [
      "Epoch 1: train loss = 0.5499, val f1: 0.2776, time = 105.2184\n",
      "Epoch 2: train loss = 0.3020, val f1: 0.5194, time = 88.3013\n",
      "Epoch 3: train loss = 0.1825, val f1: 0.6463, time = 94.1951\n",
      "Epoch 4: train loss = 0.1313, val f1: 0.6374, time = 82.3947\n",
      "Epoch 5: train loss = 0.1179, val f1: 0.7009, time = 88.4017\n",
      "Epoch 6: train loss = 0.1011, val f1: 0.7054, time = 90.7012\n",
      "Epoch 7: train loss = 0.0911, val f1: 0.7142, time = 81.7051\n",
      "Epoch 8: train loss = 0.0878, val f1: 0.7049, time = 84.1910\n",
      "Epoch 9: train loss = 0.0934, val f1: 0.7408, time = 76.8059\n",
      "Epoch 10: train loss = 0.0872, val f1: 0.7178, time = 75.6900\n",
      "\n",
      "Final evaluation on the validation set:\n",
      "Overall: P = 0.8213, R = 0.6375, F1 = 0.7178\n",
      "LOC : P = 0.9242, R = 0.6772, F1 = 0.7817\n",
      "ORG : P = 0.7703, R = 0.6652, F1 = 0.7139\n",
      "MISC: P = 0.7031, R = 0.7039, F1 = 0.7035\n",
      "PER : P = 0.8464, R = 0.5445, F1 = 0.6627\n"
     ]
    },
    {
     "data": {
      "image/png": "[encoded data removed]",
      "text/plain": [
       "<Figure size 800x550 with 1 Axes>"
      ]
     },
     "metadata": {
      "image/png": {
       "height": 466,
       "width": 669
      }
     },
     "output_type": "display_data"
    }
   ],
   "source": [
    "# from torchtext.legacy import data\n",
    "from torchtext import data\n",
    "class Tagger:\n",
    "    \n",
    "    def __init__(self, lower):\n",
    "        self.TEXT = torchtext.data.Field(init_token='<bos>', eos_token='<eos>', sequential=True, lower=lower)\n",
    "        # self.TEXT = torchtext.legacy.data.Field(init_token='<bos>', eos_token='<eos>', sequential=True, lower=lower)\n",
    "        self.LABEL = torchtext.data.Field(init_token='<bos>', eos_token='<eos>', sequential=True, unk_token=None)\n",
    "        # self.LABEL = torchtext.legacy.data.Field(init_token='<bos>', eos_token='<eos>', sequential=True, unk_token=None)\n",
    "        self.fields = [('text', self.TEXT), ('label', self.LABEL)]\n",
    "        self.device = 'cpu'\n",
    "        \n",
    "    def tag(self, sentences):\n",
    "        # This method applies the trained model to a list of sentences.\n",
    "        \n",
    "        # First, create a torchtext Dataset containing the sentences to tag.\n",
    "        examples = []\n",
    "        for sen in sentences:\n",
    "            labels = []*len(sen) # placeholder\n",
    "           \n",
    "            examples.append(torchtext.data.Example.fromlist([sen, labels], self.fields))\n",
    "            # examples.append(torchtext.legacy.data.Example.fromlist([sen, labels], self.fields))\n",
    "        # dataset = torchtext.legacy.data.Dataset(examples, self.fields)\n",
    "        dataset = torchtext.data.Dataset(examples, self.fields)\n",
    "       \n",
    "       \n",
    "        # iterator = torchtext.legacy.data.BucketIterator(\n",
    "        iterator = torchtext.data.BucketIterator(\n",
    "            dataset,\n",
    "            device=self.device,\n",
    "            batch_size=64,\n",
    "            \n",
    "            repeat=False,\n",
    "            train=False,\n",
    "            sort=False)\n",
    "        \n",
    "        # Apply the trained model to all batches.\n",
    "        out = []\n",
    "        self.model.eval()\n",
    "        \n",
    "        with torch.no_grad():\n",
    "            \n",
    "            for batch in iterator:\n",
    "                # Call the model's predict method. This returns a list of NumPy matrix\n",
    "                # containing the integer-encoded tags for each sentence.\n",
    "               \n",
    "                predicted = self.model.predict(batch.text)\n",
    "                \n",
    "                # Convert the integer-encoded tags to tag strings.\n",
    "                for tokens, pred_sen in zip(sentences, predicted):\n",
    "                    out.append([self.LABEL.vocab.itos[pred_id] for _, pred_id in zip(tokens, pred_sen[1:])])\n",
    "        return out\n",
    "\n",
    "                \n",
    "    def train(self):\n",
    "        # Read training and validation data according to the predefined split.\n",
    "        train_examples = read_data('data1/eng.train.txt', self.fields)\n",
    "        valid_examples = read_data('data1/eng.test.txt', self.fields)\n",
    "        #train_examples = read_data('eng.train.openNLP.txt', self.fields)\n",
    "        #valid_examples = read_data('eng.test.openNLP.txt', self.fields)\n",
    "\n",
    "        # Count the number of words and sentences.\n",
    "        n_tokens_train = 0\n",
    "        n_sentences_train = 0\n",
    "        for ex in train_examples:\n",
    "            n_tokens_train += len(ex.text) + 2\n",
    "            n_sentences_train += 1\n",
    "        n_tokens_valid = 0       \n",
    "        for ex in valid_examples:\n",
    "            n_tokens_valid += len(ex.text)\n",
    "\n",
    "        # Load the pre-trained embeddings that come with the torchtext library.\n",
    "        use_pretrained = False\n",
    "        if use_pretrained:\n",
    "            print('We are using pre-trained word embeddings.')\n",
    "            self.TEXT.build_vocab(train_examples, vectors=\"glove.840B.300d\")\n",
    "        else:  \n",
    "            print('We are training word embeddings from scratch.')\n",
    "            self.TEXT.build_vocab(train_examples, max_size=5000)\n",
    "        print(\"built vocab from training examples.\")\n",
    "        self.LABEL.build_vocab(train_examples)\n",
    "    \n",
    "        # Create one of the models defined above.\n",
    "        #self.model = RNNTagger(self.TEXT, self.LABEL, emb_dim=300, rnn_size=128, update_pretrained=False)\n",
    "        self.model = RNNCRFTagger(self.TEXT, self.LABEL, emb_dim=300, rnn_size=128, update_pretrained=False)\n",
    "    \n",
    "        self.model.to(self.device)\n",
    "    \n",
    "        batch_size = 1024\n",
    "        n_batches = np.ceil(n_sentences_train / batch_size)\n",
    "\n",
    "        mean_n_tokens = n_tokens_train / n_batches\n",
    "       \n",
    "        # train_iterator = torchtext.legacy.data.BucketIterator(\n",
    "        train_iterator = torchtext.data.BucketIterator(    \n",
    "            train_examples,\n",
    "            device=self.device,\n",
    "            batch_size=batch_size,\n",
    "            sort_key=lambda x: len(x.text),\n",
    "            repeat=False,\n",
    "            train=True,\n",
    "            sort=True)\n",
    "\n",
    "        # valid_iterator = torchtext.legacy.data.Iterator(\n",
    "        valid_iterator = torchtext.data.Iterator(\n",
    "            valid_examples,\n",
    "            device=self.device,\n",
    "            batch_size=64,\n",
    "            sort_key=lambda x: len(x.text),\n",
    "            repeat=False,\n",
    "            train=False,\n",
    "            sort=True)\n",
    "    \n",
    "        train_batches = list(train_iterator)\n",
    "        valid_batches = list(valid_iterator)\n",
    "\n",
    "        optimizer = torch.optim.Adam(self.model.parameters(), lr=0.01, weight_decay=1e-5)\n",
    "\n",
    "        n_labels = len(self.LABEL.vocab)\n",
    "\n",
    "        history = defaultdict(list)    \n",
    "        \n",
    "        print(\"training beginning.\")\n",
    "        n_epochs = 10 #25 is a bit too long\n",
    "        \n",
    "        for i in range(1, n_epochs + 1):\n",
    "\n",
    "            t0 = time.time()\n",
    "\n",
    "            loss_sum = 0\n",
    "\n",
    "            self.model.train()\n",
    "            for batch in train_batches:\n",
    "                \n",
    "                # Compute the output and loss.\n",
    "                loss = self.model(batch.text, batch.label) / mean_n_tokens\n",
    "                \n",
    "                optimizer.zero_grad()            \n",
    "                loss.backward()\n",
    "                optimizer.step()\n",
    "                loss_sum += loss.item()\n",
    "\n",
    "            train_loss = loss_sum / n_batches\n",
    "            history['train_loss'].append(train_loss)\n",
    "\n",
    "            # Evaluate on the validation set.\n",
    "            if i % 1 == 0:\n",
    "                stats = defaultdict(Counter)\n",
    "\n",
    "                self.model.eval()\n",
    "                with torch.no_grad():\n",
    "                    for batch in valid_batches:\n",
    "                        # Predict the model's output on a batch.\n",
    "                        predicted = self.model.predict(batch.text)                   \n",
    "                        # Update the evaluation statistics.\n",
    "                        evaluate_iob(predicted, batch.label, self.LABEL, stats)\n",
    "            \n",
    "                # Compute the overall F-score for the validation set.\n",
    "                _, _, val_f1 = prf(stats['total'])\n",
    "                \n",
    "                history['val_f1'].append(val_f1)\n",
    "            \n",
    "                t1 = time.time()\n",
    "                print(f'Epoch {i}: train loss = {train_loss:.4f}, val f1: {val_f1:.4f}, time = {t1-t0:.4f}')\n",
    "           \n",
    "        # After the final evaluation, we print more detailed evaluation statistics, including\n",
    "        # precision, recall, and F-scores for the different types of named entities.\n",
    "        print()\n",
    "        print('Final evaluation on the validation set:')\n",
    "        p, r, f1 = prf(stats['total'])\n",
    "        print(f'Overall: P = {p:.4f}, R = {r:.4f}, F1 = {f1:.4f}')\n",
    "        for label in stats:\n",
    "            if label != 'total':\n",
    "                p, r, f1 = prf(stats[label])\n",
    "                print(f'{label:4s}: P = {p:.4f}, R = {r:.4f}, F1 = {f1:.4f}')\n",
    "        \n",
    "        plt.plot(history['train_loss'])\n",
    "        plt.plot(history['val_f1'])\n",
    "        plt.legend(['training loss', 'validation F-score'])\n",
    "\n",
    "tagger = Tagger(lower=False)\n",
    "tagger.train()"
   ]
  },
  {
   "cell_type": "markdown",
   "metadata": {
    "id": "AKB0K1btVN04"
   },
   "source": [
    "# Analysis of some examples\n",
    "We'll run the trained named entity recognizer interactively and consider the system's behavior in a few examples. Please note that the system's output can vary a bit, depending on which model you trained, as well as on randomness in the training process.\n",
    "\n",
    "First, we create a utility function that takes a single sentence, runs the trained system, and prints the words and output tags line by line."
   ]
  },
  {
   "cell_type": "code",
   "execution_count": 32,
   "metadata": {
    "id": "TYhcRTiQDpRW"
   },
   "outputs": [],
   "source": [
    "def print_tags(sentence):\n",
    "    tokens = sentence.split()\n",
    "    tags = tagger.tag([tokens])[0]\n",
    "    for token, tag in zip(tokens, tags):\n",
    "        print(f'{token:12s}{tag}')"
   ]
  },
  {
   "cell_type": "code",
   "execution_count": 33,
   "metadata": {
    "colab": {
     "base_uri": "https://localhost:8080/"
    },
    "id": "9GioBvxCTLL5",
    "outputId": "dc94fcf0-746a-4f7e-9f1e-85d80eda5fc7"
   },
   "outputs": [
    {
     "name": "stdout",
     "output_type": "stream",
     "text": [
      "John        I-PER\n",
      "XYZXYZABC   I-PER\n",
      "was         O\n",
      "born        O\n",
      "in          O\n",
      "XYZABC      O\n",
      ".           O\n"
     ]
    }
   ],
   "source": [
    "print_tags('John XYZXYZABC was born in XYZABC .')"
   ]
  },
  {
   "cell_type": "code",
   "execution_count": 34,
   "metadata": {
    "colab": {
     "base_uri": "https://localhost:8080/"
    },
    "id": "Aimt7jgbD01w",
    "outputId": "a618e567-1ec4-4884-ef68-5cab79ff3ad6"
   },
   "outputs": [
    {
     "name": "stdout",
     "output_type": "stream",
     "text": [
      "John        I-PER\n",
      "Johnson     I-PER\n",
      "was         O\n",
      "born        O\n",
      "in          O\n",
      "Moscow      I-LOC\n",
      ",           O\n",
      "lives       O\n",
      "in          O\n",
      "Gothenburg  O\n",
      ",           O\n",
      "and         O\n",
      "works       O\n",
      "for         O\n",
      "Chalmers    I-ORG\n",
      "Technical   I-ORG\n",
      "University  I-ORG\n",
      "and         O\n",
      "the         O\n",
      "University  I-ORG\n",
      "of          I-ORG\n",
      "Gothenburg  I-ORG\n",
      ".           O\n"
     ]
    }
   ],
   "source": [
    "print_tags('John Johnson was born in Moscow , lives in Gothenburg , and works for Chalmers Technical University and the University of Gothenburg .')"
   ]
  },
  {
   "cell_type": "code",
   "execution_count": 35,
   "metadata": {
    "colab": {
     "base_uri": "https://localhost:8080/"
    },
    "id": "rI-FGRz1TbpZ",
    "outputId": "daa6a370-5037-46e4-f2fb-3b841d3d6005"
   },
   "outputs": [
    {
     "name": "stdout",
     "output_type": "stream",
     "text": [
      "Paris       I-ORG\n",
      "Hilton      O\n",
      "lives       O\n",
      "in          O\n",
      "New         I-LOC\n",
      "York        I-LOC\n",
      ".           O\n"
     ]
    }
   ],
   "source": [
    "print_tags('Paris Hilton lives in New York .')"
   ]
  },
  {
   "cell_type": "code",
   "execution_count": null,
   "metadata": {},
   "outputs": [],
   "source": []
  },
  {
   "cell_type": "code",
   "execution_count": null,
   "metadata": {},
   "outputs": [],
   "source": []
  }
 ],
 "metadata": {
  "accelerator": "GPU",
  "colab": {
   "collapsed_sections": [],
   "name": "NER_RNN&CRF.ipynb",
   "provenance": []
  },
  "kernelspec": {
   "display_name": "Python 3 (ipykernel)",
   "language": "python",
   "name": "python3"
  },
  "language_info": {
   "codemirror_mode": {
    "name": "ipython",
    "version": 3
   },
   "file_extension": ".py",
   "mimetype": "text/x-python",
   "name": "python",
   "nbconvert_exporter": "python",
   "pygments_lexer": "ipython3",
   "version": "3.10.13"
  }
 },
 "nbformat": 4,
 "nbformat_minor": 4
}
